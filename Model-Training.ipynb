{
 "cells": [
  {
   "cell_type": "markdown",
   "metadata": {},
   "source": [
    "## Importing the Libraries"
   ]
  },
  {
   "cell_type": "code",
   "execution_count": 2,
   "metadata": {},
   "outputs": [],
   "source": [
    "import numpy as np\n",
    "import pandas as pd  \n",
    "import matplotlib.pyplot as plt \n",
    "import seaborn as sns \n",
    "\n",
    "from sklearn.metrics import r2_score,mean_squared_error,mean_absolute_error\n",
    "from sklearn.neighbors import KNeighborsRegressor\n",
    "from sklearn.tree import DecisionTreeRegressor\n",
    "from sklearn.ensemble import RandomForestRegressor,AdaBoostRegressor\n",
    "from sklearn.svm import SVR\n",
    "from sklearn.linear_model import LinearRegression,Ridge,Lasso\n",
    "from sklearn.model_selection import GridSearchCV,RandomizedSearchCV\n",
    "from xgboost import XGBRegressor\n",
    "import warnings"
   ]
  },
  {
   "cell_type": "markdown",
   "metadata": {},
   "source": [
    "## Import the data as pandas dataframe"
   ]
  },
  {
   "cell_type": "code",
   "execution_count": 4,
   "metadata": {},
   "outputs": [],
   "source": [
    "df=pd.read_csv('data/stud.csv')"
   ]
  },
  {
   "cell_type": "markdown",
   "metadata": {},
   "source": [
    "## Preparing X and Y variables"
   ]
  },
  {
   "cell_type": "code",
   "execution_count": 6,
   "metadata": {},
   "outputs": [],
   "source": [
    "# We will be prediction the writing score so we will keep it as output feature\n",
    "\n",
    "X=df.drop(columns=['writing_score'],axis=1)\n",
    "y=df['writing_score']"
   ]
  },
  {
   "cell_type": "markdown",
   "metadata": {},
   "source": [
    "## Data Transformations"
   ]
  },
  {
   "cell_type": "code",
   "execution_count": 8,
   "metadata": {},
   "outputs": [],
   "source": [
    "num_features=[feature for feature in X.columns if X[feature].dtypes!='O']\n",
    "cat_features=[feature for feature in X.columns if X[feature].dtypes=='O']"
   ]
  },
  {
   "cell_type": "code",
   "execution_count": 9,
   "metadata": {},
   "outputs": [],
   "source": [
    "from sklearn.preprocessing import StandardScaler,OneHotEncoder\n",
    "from sklearn.compose import ColumnTransformer\n",
    "\n",
    "scaler=StandardScaler()\n",
    "oh_encoder=OneHotEncoder()\n",
    "\n",
    "\n",
    "preprocessor=ColumnTransformer(\n",
    "    [\n",
    "         ('OneHotEncoder',oh_encoder,cat_features),\n",
    "         ('StandardScaler',scaler,num_features),\n",
    "    ]\n",
    ")"
   ]
  },
  {
   "cell_type": "code",
   "execution_count": 10,
   "metadata": {},
   "outputs": [],
   "source": [
    "X=preprocessor.fit_transform(X)"
   ]
  },
  {
   "cell_type": "markdown",
   "metadata": {},
   "source": [
    "## Train Test Split"
   ]
  },
  {
   "cell_type": "code",
   "execution_count": 12,
   "metadata": {},
   "outputs": [],
   "source": [
    "from sklearn.model_selection import train_test_split\n",
    "X_train,X_test,y_train,y_test=train_test_split(X,y,test_size=0.25,random_state=42)"
   ]
  },
  {
   "cell_type": "markdown",
   "metadata": {},
   "source": [
    "## Model Training and Evaluation"
   ]
  },
  {
   "cell_type": "code",
   "execution_count": 14,
   "metadata": {},
   "outputs": [],
   "source": [
    "def evaluate_model(y_test,y_pred):\n",
    "    mae=mean_absolute_error(y_test,y_pred)\n",
    "    mse=mean_squared_error(y_test,y_pred)\n",
    "    rmse=np.sqrt(mean_squared_error(y_test,y_pred))\n",
    "    r2=r2_score(y_test,y_pred)\n",
    "    return mae,rmse,r2\n"
   ]
  },
  {
   "cell_type": "code",
   "execution_count": 15,
   "metadata": {},
   "outputs": [
    {
     "name": "stdout",
     "output_type": "stream",
     "text": [
      "LinearRegression\n",
      " \n",
      "Model Performance for Training Set\n",
      "Mean Absolute Error: 2.684790724969181\n",
      "Root Mean Square Error: 3.3575606698163583\n",
      "R2_score: 0.9488066237834389\n",
      "-----------------------------------\n",
      "Model Performance for Test Set\n",
      "Mean Absolute Error: 3.1753147283249974\n",
      "Root Mean Square Error: 3.815893651101136\n",
      "R2_score: 0.9434652208209913\n",
      "====================\n",
      "\n",
      "\n",
      "Lasso\n",
      " \n",
      "Model Performance for Training Set\n",
      "Mean Absolute Error: 3.6549334982862685\n",
      "Root Mean Square Error: 4.514321899355755\n",
      "R2_score: 0.9074554001462553\n",
      "-----------------------------------\n",
      "Model Performance for Test Set\n",
      "Mean Absolute Error: 3.901864199293994\n",
      "Root Mean Square Error: 4.919992046913302\n",
      "R2_score: 0.9060164215631767\n",
      "====================\n",
      "\n",
      "\n",
      "Ridge\n",
      " \n",
      "Model Performance for Training Set\n",
      "Mean Absolute Error: 2.6851839652181986\n",
      "Root Mean Square Error: 3.357614758021004\n",
      "R2_score: 0.9488049743835415\n",
      "-----------------------------------\n",
      "Model Performance for Test Set\n",
      "Mean Absolute Error: 3.1755178716958534\n",
      "Root Mean Square Error: 3.8163647019052545\n",
      "R2_score: 0.9434512621526755\n",
      "====================\n",
      "\n",
      "\n",
      "K-Nearest Neighbors\n",
      " \n",
      "Model Performance for Training Set\n",
      "Mean Absolute Error: 3.2981333333333334\n",
      "Root Mean Square Error: 4.088409633749208\n",
      "R2_score: 0.9240942212254992\n",
      "-----------------------------------\n",
      "Model Performance for Test Set\n",
      "Mean Absolute Error: 4.2104\n",
      "Root Mean Square Error: 5.497766819354928\n",
      "R2_score: 0.8826465647552304\n",
      "====================\n",
      "\n",
      "\n",
      "Decision Tree\n",
      " \n",
      "Model Performance for Training Set\n",
      "Mean Absolute Error: 0.021333333333333333\n",
      "Root Mean Square Error: 0.2556038601690775\n",
      "R2_score: 0.9997033114055839\n",
      "-----------------------------------\n",
      "Model Performance for Test Set\n",
      "Mean Absolute Error: 4.404\n",
      "Root Mean Square Error: 5.558057214530991\n",
      "R2_score: 0.8800585757699003\n",
      "====================\n",
      "\n",
      "\n",
      "Random Forest\n",
      " \n",
      "Model Performance for Training Set\n",
      "Mean Absolute Error: 1.201030222222222\n",
      "Root Mean Square Error: 1.495427887212169\n",
      "R2_score: 0.9898446011480269\n",
      "-----------------------------------\n",
      "Model Performance for Test Set\n",
      "Mean Absolute Error: 3.7048353333333335\n",
      "Root Mean Square Error: 4.628556048476554\n",
      "R2_score: 0.9168208975968257\n",
      "====================\n",
      "\n",
      "\n",
      "XGBRegressor\n",
      " \n",
      "Model Performance for Training Set\n",
      "Mean Absolute Error: 0.27062952518463135\n",
      "Root Mean Square Error: 0.43934214568175894\n",
      "R2_score: 0.9991234540939331\n",
      "-----------------------------------\n",
      "Model Performance for Test Set\n",
      "Mean Absolute Error: 3.537466526031494\n",
      "Root Mean Square Error: 4.483470865477651\n",
      "R2_score: 0.9219537973403931\n",
      "====================\n",
      "\n",
      "\n",
      "AdaBoostRegressor\n",
      " \n",
      "Model Performance for Training Set\n",
      "Mean Absolute Error: 3.314943951120595\n",
      "Root Mean Square Error: 4.005107014196248\n",
      "R2_score: 0.9271559164539147\n",
      "-----------------------------------\n",
      "Model Performance for Test Set\n",
      "Mean Absolute Error: 3.7130989917248716\n",
      "Root Mean Square Error: 4.778954411006154\n",
      "R2_score: 0.9113275005073975\n",
      "====================\n",
      "\n",
      "\n"
     ]
    }
   ],
   "source": [
    "models={\n",
    "    \"LinearRegression\":LinearRegression(),\n",
    "    \"Lasso\":Lasso(),\n",
    "    \"Ridge\":Ridge(),\n",
    "    \"K-Nearest Neighbors\":KNeighborsRegressor(),\n",
    "    \"Decision Tree\":DecisionTreeRegressor(),\n",
    "    \"Random Forest\":RandomForestRegressor(),\n",
    "    \"XGBRegressor\":XGBRegressor(),\n",
    "    \"AdaBoostRegressor\":AdaBoostRegressor()\n",
    "}\n",
    "\n",
    "model_list=[]\n",
    "r2_list=[]\n",
    "\n",
    "for i in range(len(list(models))):\n",
    "    model=list(models.values())[i]\n",
    "    #Training Model\n",
    "    model.fit(X_train,y_train)\n",
    "\n",
    "\n",
    "    #Making Prediction\n",
    "    y_train_pred=model.predict(X_train)\n",
    "    y_test_pred=model.predict(X_test)\n",
    "\n",
    "    #Evaluate Train and Test dataset\n",
    "    model_train_mae,model_train_rmse,model_train_r2=evaluate_model(y_train,y_train_pred)\n",
    "    model_test_mae,model_test_rmse,model_test_r2=evaluate_model(y_test,y_test_pred)\n",
    "\n",
    "    print(list(models.keys())[i])\n",
    "    print(' ')\n",
    "    model_list.append(list(models.keys())[i])\n",
    "\n",
    "    print(\"Model Performance for Training Set\")\n",
    "    print(\"Mean Absolute Error: {}\".format(model_train_mae))\n",
    "    print(\"Root Mean Square Error: {}\".format(model_train_rmse))\n",
    "    print(\"R2_score: {}\".format(model_train_r2))\n",
    "\n",
    "    print(\"-----------------------------------\")\n",
    "\n",
    "    print(\"Model Performance for Test Set\")\n",
    "    print(\"Mean Absolute Error: {}\".format(model_test_mae))\n",
    "    print(\"Root Mean Square Error: {}\".format(model_test_rmse))\n",
    "    print(\"R2_score: {}\".format(model_test_r2))\n",
    "    r2_list.append(model_test_r2)\n",
    "\n",
    "    print(\"=\"*20)\n",
    "    print('\\n')"
   ]
  },
  {
   "cell_type": "markdown",
   "metadata": {},
   "source": [
    "## R2 score for test set from different algorithms"
   ]
  },
  {
   "cell_type": "code",
   "execution_count": 17,
   "metadata": {},
   "outputs": [
    {
     "data": {
      "text/html": [
       "<div>\n",
       "<style scoped>\n",
       "    .dataframe tbody tr th:only-of-type {\n",
       "        vertical-align: middle;\n",
       "    }\n",
       "\n",
       "    .dataframe tbody tr th {\n",
       "        vertical-align: top;\n",
       "    }\n",
       "\n",
       "    .dataframe thead th {\n",
       "        text-align: right;\n",
       "    }\n",
       "</style>\n",
       "<table border=\"1\" class=\"dataframe\">\n",
       "  <thead>\n",
       "    <tr style=\"text-align: right;\">\n",
       "      <th></th>\n",
       "      <th>Model Name</th>\n",
       "      <th>R2 score</th>\n",
       "    </tr>\n",
       "  </thead>\n",
       "  <tbody>\n",
       "    <tr>\n",
       "      <th>0</th>\n",
       "      <td>LinearRegression</td>\n",
       "      <td>0.943465</td>\n",
       "    </tr>\n",
       "    <tr>\n",
       "      <th>2</th>\n",
       "      <td>Ridge</td>\n",
       "      <td>0.943451</td>\n",
       "    </tr>\n",
       "    <tr>\n",
       "      <th>6</th>\n",
       "      <td>XGBRegressor</td>\n",
       "      <td>0.921954</td>\n",
       "    </tr>\n",
       "    <tr>\n",
       "      <th>5</th>\n",
       "      <td>Random Forest</td>\n",
       "      <td>0.916821</td>\n",
       "    </tr>\n",
       "    <tr>\n",
       "      <th>7</th>\n",
       "      <td>AdaBoostRegressor</td>\n",
       "      <td>0.911328</td>\n",
       "    </tr>\n",
       "    <tr>\n",
       "      <th>1</th>\n",
       "      <td>Lasso</td>\n",
       "      <td>0.906016</td>\n",
       "    </tr>\n",
       "    <tr>\n",
       "      <th>3</th>\n",
       "      <td>K-Nearest Neighbors</td>\n",
       "      <td>0.882647</td>\n",
       "    </tr>\n",
       "    <tr>\n",
       "      <th>4</th>\n",
       "      <td>Decision Tree</td>\n",
       "      <td>0.880059</td>\n",
       "    </tr>\n",
       "  </tbody>\n",
       "</table>\n",
       "</div>"
      ],
      "text/plain": [
       "            Model Name  R2 score\n",
       "0     LinearRegression  0.943465\n",
       "2                Ridge  0.943451\n",
       "6         XGBRegressor  0.921954\n",
       "5        Random Forest  0.916821\n",
       "7    AdaBoostRegressor  0.911328\n",
       "1                Lasso  0.906016\n",
       "3  K-Nearest Neighbors  0.882647\n",
       "4        Decision Tree  0.880059"
      ]
     },
     "execution_count": 17,
     "metadata": {},
     "output_type": "execute_result"
    }
   ],
   "source": [
    "pd.DataFrame(list(zip(model_list,r2_list)),columns=['Model Name','R2 score']).sort_values(by=['R2 score'],ascending=False)"
   ]
  },
  {
   "cell_type": "markdown",
   "metadata": {},
   "source": [
    "### Linear Regression has shown the best performance"
   ]
  },
  {
   "cell_type": "code",
   "execution_count": 19,
   "metadata": {},
   "outputs": [
    {
     "name": "stdout",
     "output_type": "stream",
     "text": [
      "Accuracy of the model is 94.34652208209913 %\n"
     ]
    }
   ],
   "source": [
    "lr=LinearRegression()\n",
    "lr=lr.fit(X_train,y_train)\n",
    "y_pred=lr.predict(X_test)\n",
    "score=r2_score(y_test,y_pred)*100\n",
    "print(\"Accuracy of the model is {} %\".format(score))"
   ]
  },
  {
   "cell_type": "markdown",
   "metadata": {},
   "source": [
    "### Plotting y_test and y_pred"
   ]
  },
  {
   "cell_type": "code",
   "execution_count": 45,
   "metadata": {},
   "outputs": [
    {
     "data": {
      "image/png": "[encoded data removed]",
      "text/plain": [
       "<Figure size 800x500 with 1 Axes>"
      ]
     },
     "metadata": {},
     "output_type": "display_data"
    }
   ],
   "source": [
    "plt.figure(figsize=(8,5))\n",
    "sns.regplot(x=y_test,y=y_pred,ci=None,color='red')\n",
    "plt.xlabel('Actual')\n",
    "plt.ylabel('Predicted')\n",
    "plt.show()"
   ]
  },
  {
   "cell_type": "markdown",
   "metadata": {},
   "source": [
    "### Interpretting the coefficients"
   ]
  },
  {
   "cell_type": "code",
   "execution_count": 39,
   "metadata": {},
   "outputs": [
    {
     "name": "stdout",
     "output_type": "stream",
     "text": [
      "[ 2.90802426 -2.90802426 -0.53351459 -0.17096266  0.53527284  1.73607866\n",
      " -1.56687425  0.11488591  1.42887336 -1.25055998  1.29033933 -0.13508489\n",
      " -1.44845374 -0.14425193  0.14425193  1.76079425 -1.76079425  4.45870099\n",
      "  9.50060746]\n"
     ]
    }
   ],
   "source": [
    "print(lr.coef_)"
   ]
  }
 ],
 "metadata": {
  "kernelspec": {
   "display_name": "Python 3 (ipykernel)",
   "language": "python",
   "name": "python3"
  },
  "language_info": {
   "codemirror_mode": {
    "name": "ipython",
    "version": 3
   },
   "file_extension": ".py",
   "mimetype": "text/x-python",
   "name": "python",
   "nbconvert_exporter": "python",
   "pygments_lexer": "ipython3",
   "version": "3.12.4"
  }
 },
 "nbformat": 4,
 "nbformat_minor": 4
}
